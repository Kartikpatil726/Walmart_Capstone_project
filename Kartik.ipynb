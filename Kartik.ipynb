{
  "nbformat": 4,
  "nbformat_minor": 0,
  "metadata": {
    "colab": {
      "provenance": []
    },
    "kernelspec": {
      "name": "python3",
      "display_name": "Python 3"
    },
    "language_info": {
      "name": "python"
    }
  },
  "cells": [
    {
      "cell_type": "code",
      "execution_count": null,
      "metadata": {
        "id": "Kh23FO6kC4sG"
      },
      "outputs": [],
      "source": [
        "# Walmart Sales Analysis & Forecasting Capstone Project\n",
        "\n",
        "import pandas as pd\n",
        "import matplotlib.pyplot as plt\n",
        "import seaborn as sns\n",
        "import numpy as np\n",
        "from statsmodels.tsa.holtwinters import ExponentialSmoothing"
      ]
    },
    {
      "cell_type": "code",
      "source": [
        "# Load the dataset\n",
        "df = pd.read_csv(\"/content/Walmart.csv\")\n"
      ],
      "metadata": {
        "id": "TNuiv9_kEMkj"
      },
      "execution_count": null,
      "outputs": []
    },
    {
      "cell_type": "code",
      "source": [
        "# Preprocessing\n",
        "df['Date'] = pd.to_datetime(df['Date'], errors='coerce')\n",
        "df = df.sort_values(by=[\"Store\", \"Date\"])"
      ],
      "metadata": {
        "id": "eDfafYrVETo_"
      },
      "execution_count": null,
      "outputs": []
    },
    {
      "cell_type": "code",
      "source": [
        "# Create Month column for seasonal analysis\n",
        "df['Month'] = df['Date'].dt.month\n"
      ],
      "metadata": {
        "id": "KKGGsJBVETuG"
      },
      "execution_count": null,
      "outputs": []
    },
    {
      "cell_type": "code",
      "source": [
        "# Top stores by total sales\n",
        "top_stores = df.groupby(\"Store\")[\"Weekly_Sales\"].sum().sort_values(ascending=False)\n",
        "selected_stores = [20, 4, 14]\n",
        "df_selected = df[df[\"Store\"].isin(selected_stores)]"
      ],
      "metadata": {
        "id": "lPBb8hQgET28"
      },
      "execution_count": null,
      "outputs": []
    },
    {
      "cell_type": "code",
      "source": [
        "# Q1: Correlation Analysis\n",
        "corr_unemployment = df[\"Weekly_Sales\"].corr(df[\"Unemployment\"])\n",
        "corr_cpi = df[\"Weekly_Sales\"].corr(df[\"CPI\"])\n",
        "corr_temp = df[\"Weekly_Sales\"].corr(df[\"Temperature\"])\n"
      ],
      "metadata": {
        "id": "dT9IjOp2EucP"
      },
      "execution_count": null,
      "outputs": []
    },
    {
      "cell_type": "code",
      "source": [
        "# Monthly average sales\n",
        "monthly_sales = df.groupby('Month')[\"Weekly_Sales\"].mean()"
      ],
      "metadata": {
        "id": "WIrsWMRcE1N1"
      },
      "execution_count": null,
      "outputs": []
    },
    {
      "cell_type": "code",
      "source": [
        "# Best and worst performing stores\n",
        "total_sales_by_store = df.groupby(\"Store\")[\"Weekly_Sales\"].sum()\n",
        "best_store = total_sales_by_store.idxmax()\n",
        "worst_store = total_sales_by_store.idxmin()\n",
        "performance_gap = total_sales_by_store.max() - total_sales_by_store.min()\n"
      ],
      "metadata": {
        "id": "RbCkGA5LE8Q5"
      },
      "execution_count": null,
      "outputs": []
    },
    {
      "cell_type": "code",
      "source": [
        "# Q2: Forecasting Next 12 Weeks\n",
        "forecast_results = {}\n",
        "for store in selected_stores:\n",
        "    store_df = df[df[\"Store\"] == store].sort_values(\"Date\")\n",
        "    store_weekly = store_df.set_index(\"Date\")[\"Weekly_Sales\"].resample(\"W\").mean().fillna(method=\"ffill\")\n",
        "    model = ExponentialSmoothing(store_weekly, trend='add', seasonal='add', seasonal_periods=52).fit()\n",
        "    forecast = model.forecast(12)\n",
        "    forecast_results[store] = forecast\n"
      ],
      "metadata": {
        "colab": {
          "base_uri": "https://localhost:8080/"
        },
        "id": "N8fY8_g6E8Th",
        "outputId": "600bef7a-fbe2-48b8-92f3-5ced8f4c3474"
      },
      "execution_count": null,
      "outputs": [
        {
          "output_type": "stream",
          "name": "stderr",
          "text": [
            "/tmp/ipython-input-9-1116496822.py:5: FutureWarning: Series.fillna with 'method' is deprecated and will raise in a future version. Use obj.ffill() or obj.bfill() instead.\n",
            "  store_weekly = store_df.set_index(\"Date\")[\"Weekly_Sales\"].resample(\"W\").mean().fillna(method=\"ffill\")\n",
            "/usr/local/lib/python3.11/dist-packages/statsmodels/tsa/base/tsa_model.py:473: ValueWarning: No frequency information was provided, so inferred frequency W-SUN will be used.\n",
            "  self._init_dates(dates, freq)\n",
            "/tmp/ipython-input-9-1116496822.py:5: FutureWarning: Series.fillna with 'method' is deprecated and will raise in a future version. Use obj.ffill() or obj.bfill() instead.\n",
            "  store_weekly = store_df.set_index(\"Date\")[\"Weekly_Sales\"].resample(\"W\").mean().fillna(method=\"ffill\")\n",
            "/usr/local/lib/python3.11/dist-packages/statsmodels/tsa/base/tsa_model.py:473: ValueWarning: No frequency information was provided, so inferred frequency W-SUN will be used.\n",
            "  self._init_dates(dates, freq)\n",
            "/tmp/ipython-input-9-1116496822.py:5: FutureWarning: Series.fillna with 'method' is deprecated and will raise in a future version. Use obj.ffill() or obj.bfill() instead.\n",
            "  store_weekly = store_df.set_index(\"Date\")[\"Weekly_Sales\"].resample(\"W\").mean().fillna(method=\"ffill\")\n",
            "/usr/local/lib/python3.11/dist-packages/statsmodels/tsa/base/tsa_model.py:473: ValueWarning: No frequency information was provided, so inferred frequency W-SUN will be used.\n",
            "  self._init_dates(dates, freq)\n"
          ]
        }
      ]
    },
    {
      "cell_type": "code",
      "source": [
        "# Print Submission Summary\n",
        "print(\"Q1: Insights\")\n",
        "print(f\"Correlation (Weekly Sales vs Unemployment): {corr_unemployment:.4f}\")\n",
        "print(f\"Correlation (Weekly Sales vs CPI): {corr_cpi:.4f}\")\n",
        "print(f\"Correlation (Weekly Sales vs Temperature): {corr_temp:.4f}\")\n",
        "print(f\"Best Store: {best_store}\")\n",
        "print(f\"Worst Store: {worst_store}\")\n",
        "print(f\"Performance Gap: ₹{performance_gap:,.2f}\")\n",
        "print(\"\\nMonthly Average Sales:\")\n",
        "print(monthly_sales)\n"
      ],
      "metadata": {
        "colab": {
          "base_uri": "https://localhost:8080/"
        },
        "id": "AoWkDEAkE8WV",
        "outputId": "00c2c7cf-c788-4ce7-efab-93f16027d63d"
      },
      "execution_count": null,
      "outputs": [
        {
          "output_type": "stream",
          "name": "stdout",
          "text": [
            "Q1: Insights\n",
            "Correlation (Weekly Sales vs Unemployment): -0.1062\n",
            "Correlation (Weekly Sales vs CPI): -0.0726\n",
            "Correlation (Weekly Sales vs Temperature): -0.0638\n",
            "Best Store: 20\n",
            "Worst Store: 33\n",
            "Performance Gap: ₹264,237,570.50\n",
            "\n",
            "Monthly Average Sales:\n",
            "Month\n",
            "1.0     1.008661e+06\n",
            "2.0     1.070976e+06\n",
            "3.0     1.064208e+06\n",
            "4.0     1.062676e+06\n",
            "5.0     1.057717e+06\n",
            "6.0     1.087901e+06\n",
            "7.0     1.037893e+06\n",
            "8.0     1.047227e+06\n",
            "9.0     1.089198e+06\n",
            "10.0    1.095039e+06\n",
            "11.0    1.045290e+06\n",
            "12.0    1.034511e+06\n",
            "Name: Weekly_Sales, dtype: float64\n"
          ]
        }
      ]
    },
    {
      "cell_type": "code",
      "source": [
        "print(\"\\nQ2: Forecasts for Next 12 Weeks\")\n",
        "for store, forecast in forecast_results.items():\n",
        "    print(f\"\\nStore {store} Forecast:\")\n",
        "    print(forecast.round(2))\n"
      ],
      "metadata": {
        "colab": {
          "base_uri": "https://localhost:8080/"
        },
        "id": "x3wJFSNOE8Y8",
        "outputId": "1d4a511a-65c8-42a1-9e2a-0a6c6b258b54"
      },
      "execution_count": null,
      "outputs": [
        {
          "output_type": "stream",
          "name": "stdout",
          "text": [
            "\n",
            "Q2: Forecasts for Next 12 Weeks\n",
            "\n",
            "Store 20 Forecast:\n",
            "2012-12-23    2176916.03\n",
            "2012-12-30    2165450.50\n",
            "2013-01-06    2041956.35\n",
            "2013-01-13    2017729.61\n",
            "2013-01-20    2007394.18\n",
            "2013-01-27    1983167.44\n",
            "2013-02-03    2140110.15\n",
            "2013-02-10    2220919.08\n",
            "2013-02-17    2238073.96\n",
            "2013-02-24    2255228.85\n",
            "2013-03-03    2261666.28\n",
            "2013-03-10    2223374.64\n",
            "Freq: W-SUN, dtype: float64\n",
            "\n",
            "Store 4 Forecast:\n",
            "2012-12-23    2130333.56\n",
            "2012-12-30    2114438.99\n",
            "2013-01-06    2103136.19\n",
            "2013-01-13    2095203.27\n",
            "2013-01-20    2090635.30\n",
            "2013-01-27    2075972.49\n",
            "2013-02-03    2131214.01\n",
            "2013-02-10    2197715.78\n",
            "2013-02-17    2226015.89\n",
            "2013-02-24    2212254.22\n",
            "2013-03-03    2154753.40\n",
            "2013-03-10    2160025.73\n",
            "Freq: W-SUN, dtype: float64\n",
            "\n",
            "Store 14 Forecast:\n",
            "2012-12-23    1681558.33\n",
            "2012-12-30    1657772.87\n",
            "2013-01-06    1579262.11\n",
            "2013-01-13    1572476.91\n",
            "2013-01-20    1573677.48\n",
            "2013-01-27    1510991.82\n",
            "2013-02-03    1616278.67\n",
            "2013-02-10    1566483.36\n",
            "2013-02-17    1554885.53\n",
            "2013-02-24    1587209.49\n",
            "2013-03-03    1690190.81\n",
            "2013-03-10    1616156.34\n",
            "Freq: W-SUN, dtype: float64\n"
          ]
        }
      ]
    },
    {
      "cell_type": "code",
      "source": [],
      "metadata": {
        "id": "PuK21OseE8bj"
      },
      "execution_count": null,
      "outputs": []
    },
    {
      "cell_type": "code",
      "source": [],
      "metadata": {
        "id": "K6i4Ap_0E8d4"
      },
      "execution_count": null,
      "outputs": []
    },
    {
      "cell_type": "code",
      "source": [],
      "metadata": {
        "id": "glqDr4mzE8gf"
      },
      "execution_count": null,
      "outputs": []
    },
    {
      "cell_type": "code",
      "source": [],
      "metadata": {
        "id": "5R8Y6dzjE8jG"
      },
      "execution_count": null,
      "outputs": []
    },
    {
      "cell_type": "code",
      "source": [],
      "metadata": {
        "id": "TMPtg1QoE8le"
      },
      "execution_count": null,
      "outputs": []
    }
  ]
}